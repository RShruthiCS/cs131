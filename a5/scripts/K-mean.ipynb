{
 "cells": [
  {
   "cell_type": "code",
   "execution_count": 26,
   "metadata": {},
   "outputs": [
    {
     "name": "stderr",
     "output_type": "stream",
     "text": [
      "25/07/30 03:07:54 WARN SparkSession: Using an existing Spark session; only runtime SQL configurations will take effect.\n"
     ]
    }
   ],
   "source": [
    "from pyspark.sql import SparkSession\n",
    "spark = SparkSession.builder.appName(\"../data/S&P500_data_analysis\").getOrCreate()"
   ]
  },
  {
   "cell_type": "code",
   "execution_count": 27,
   "metadata": {},
   "outputs": [],
   "source": [
    "df = spark.read \\\n",
    "    .option(\"header\", True) \\\n",
    "    .option(\"inferSchema\", True) \\\n",
    "    .option(\"delimiter\", \",\") \\\n",
    "    .option(\"quote\", '\"') \\\n",
    "    .option(\"escape\", '\"') \\\n",
    "    .option(\"multiLine\", True) \\\n",
    "    .option(\"samplingRatio\", \"1.0\") \\\n",
    "    .csv(\"../data/sp500_companies.csv\")\n"
   ]
  },
  {
   "cell_type": "code",
   "execution_count": 28,
   "metadata": {},
   "outputs": [
    {
     "name": "stdout",
     "output_type": "stream",
     "text": [
      "['Exchange', 'Symbol', 'Shortname', 'Longname', 'Sector', 'Industry', 'Currentprice', 'Marketcap', 'Ebitda', 'Revenuegrowth', 'City', 'State', 'Country', 'Fulltimeemployees', 'Longbusinesssummary', 'Weight']\n",
      "16\n"
     ]
    }
   ],
   "source": [
    "print(df.columns)\n",
    "print(len(df.columns))\n"
   ]
  },
  {
   "cell_type": "code",
   "execution_count": 29,
   "metadata": {},
   "outputs": [
    {
     "name": "stdout",
     "output_type": "stream",
     "text": [
      "+--------+------+--------------------+--------------------+--------------------+--------------------+------------+-------------+------------+-------------+-------------+-----+-------------+-----------------+--------------------+--------------------+\n",
      "|Exchange|Symbol|           Shortname|            Longname|              Sector|            Industry|Currentprice|    Marketcap|      Ebitda|Revenuegrowth|         City|State|      Country|Fulltimeemployees| Longbusinesssummary|              Weight|\n",
      "+--------+------+--------------------+--------------------+--------------------+--------------------+------------+-------------+------------+-------------+-------------+-----+-------------+-----------------+--------------------+--------------------+\n",
      "|     NMS|  AAPL|          Apple Inc.|          Apple Inc.|          Technology|Consumer Electronics|      254.49|3846819807232|134660997120|        0.061|    Cupertino|   CA|United States|           164000|Apple Inc. design...| 0.06920915243972749|\n",
      "|     NMS|  NVDA|  NVIDIA Corporation|  NVIDIA Corporation|          Technology|      Semiconductors|       134.7|3298803056640| 61184000000|        1.224|  Santa Clara|   CA|United States|            29600|NVIDIA Corporatio...|0.059349638157321576|\n",
      "|     NMS|  MSFT|Microsoft Corpora...|Microsoft Corpora...|          Technology|Software - Infras...|       436.6|3246068596736|136551997440|         0.16|      Redmond|   WA|United States|           228000|Microsoft Corpora...|0.058400878543611257|\n",
      "|     NMS|  AMZN|    Amazon.com, Inc.|    Amazon.com, Inc.|   Consumer Cyclical|     Internet Retail|      224.92|2365033807872|111583002624|         0.11|      Seattle|   WA|United States|          1551000|Amazon.com, Inc. ...| 0.04254994866835228|\n",
      "|     NMS| GOOGL|       Alphabet Inc.|       Alphabet Inc.|Communication Ser...|Internet Content ...|      191.41|2351625142272|123469996032|        0.151|Mountain View|   CA|United States|           181269|Alphabet Inc. off...|0.042308709819633895|\n",
      "+--------+------+--------------------+--------------------+--------------------+--------------------+------------+-------------+------------+-------------+-------------+-----+-------------+-----------------+--------------------+--------------------+\n",
      "only showing top 5 rows\n"
     ]
    }
   ],
   "source": [
    "df.show(5)"
   ]
  },
  {
   "cell_type": "code",
   "execution_count": 30,
   "metadata": {},
   "outputs": [],
   "source": [
    "num_rows = df.count()"
   ]
  },
  {
   "cell_type": "code",
   "execution_count": 31,
   "metadata": {},
   "outputs": [
    {
     "name": "stdout",
     "output_type": "stream",
     "text": [
      "502\n"
     ]
    }
   ],
   "source": [
    "print(num_rows)"
   ]
  },
  {
   "cell_type": "code",
   "execution_count": 32,
   "metadata": {},
   "outputs": [],
   "source": [
    "df = df.drop(\"Shortname\", \"Longbusinesssummary\")"
   ]
  },
  {
   "cell_type": "code",
   "execution_count": 33,
   "metadata": {},
   "outputs": [
    {
     "name": "stdout",
     "output_type": "stream",
     "text": [
      "+--------+------+----------+----------+--------------------+------------+-------------+------------+-------------+---------+-----+-------------+-----------------+-------------------+\n",
      "|Exchange|Symbol|  Longname|    Sector|            Industry|Currentprice|    Marketcap|      Ebitda|Revenuegrowth|     City|State|      Country|Fulltimeemployees|             Weight|\n",
      "+--------+------+----------+----------+--------------------+------------+-------------+------------+-------------+---------+-----+-------------+-----------------+-------------------+\n",
      "|     NMS|  AAPL|Apple Inc.|Technology|Consumer Electronics|      254.49|3846819807232|134660997120|        0.061|Cupertino|   CA|United States|           164000|0.06920915243972749|\n",
      "+--------+------+----------+----------+--------------------+------------+-------------+------------+-------------+---------+-----+-------------+-----------------+-------------------+\n",
      "only showing top 1 row\n"
     ]
    }
   ],
   "source": [
    "df.show(1)\n"
   ]
  },
  {
   "cell_type": "code",
   "execution_count": 34,
   "metadata": {},
   "outputs": [
    {
     "name": "stdout",
     "output_type": "stream",
     "text": [
      "['Exchange', 'Symbol', 'Longname', 'Sector', 'Industry', 'Currentprice', 'Marketcap', 'Ebitda', 'Revenuegrowth', 'City', 'State', 'Country', 'Fulltimeemployees', 'Weight']\n"
     ]
    }
   ],
   "source": [
    "print(df.columns)"
   ]
  },
  {
   "cell_type": "code",
   "execution_count": 35,
   "metadata": {},
   "outputs": [
    {
     "name": "stdout",
     "output_type": "stream",
     "text": [
      "+----------------+----------------+-------------+-------------+-----------+------------+\n",
      "|Min_Currentprice|Max_Currentprice|Min_Marketcap|Max_Marketcap| Min_Ebitda|  Max_Ebitda|\n",
      "+----------------+----------------+-------------+-------------+-----------+------------+\n",
      "|             9.4|         8276.78|   4664099328|3846819807232|-3991000064|149547008000|\n",
      "+----------------+----------------+-------------+-------------+-----------+------------+\n",
      "\n"
     ]
    }
   ],
   "source": [
    "from pyspark.sql.functions import (\n",
    "    min, max, mean, avg, sum, count, stddev, col\n",
    ")\n",
    "\n",
    "df.select(\n",
    "    min(\"Currentprice\").alias(\"Min_Currentprice\"),\n",
    "    max(\"Currentprice\").alias(\"Max_Currentprice\"),\n",
    "    min(\"Marketcap\").alias(\"Min_Marketcap\"),\n",
    "    max(\"Marketcap\").alias(\"Max_Marketcap\"),\n",
    "    min(\"Ebitda\").alias(\"Min_Ebitda\"),\n",
    "    max(\"Ebitda\").alias(\"Max_Ebitda\"),\n",
    ").show()\n",
    "\n"
   ]
  },
  {
   "cell_type": "code",
   "execution_count": 36,
   "metadata": {},
   "outputs": [
    {
     "name": "stdout",
     "output_type": "stream",
     "text": [
      "+-----------------+-----------------+---------------+---------------+-------------------+-------------------+\n",
      "|Min_Revenuegrowth|Max_Revenuegrowth|Min_FTemployees|Max_FTemployees|         Min_Weight|         Max_Weight|\n",
      "+-----------------+-----------------+---------------+---------------+-------------------+-------------------+\n",
      "|           -0.602|            1.632|             28|        2100000|8.39130444266517E-5|0.06920915243972749|\n",
      "+-----------------+-----------------+---------------+---------------+-------------------+-------------------+\n",
      "\n"
     ]
    }
   ],
   "source": [
    "df.select(min(\"Revenuegrowth\").alias(\"Min_Revenuegrowth\"),\n",
    "    max(\"Revenuegrowth\").alias(\"Max_Revenuegrowth\"),\n",
    "    min(\"Fulltimeemployees\").alias(\"Min_FTemployees\"),\n",
    "    max(\"Fulltimeemployees\").alias(\"Max_FTemployees\"),\n",
    "    min(\"Weight\").alias(\"Min_Weight\"),\n",
    "    max(\"Weight\").alias(\"Max_Weight\")).show()"
   ]
  },
  {
   "cell_type": "code",
   "execution_count": 37,
   "metadata": {},
   "outputs": [
    {
     "name": "stdout",
     "output_type": "stream",
     "text": [
      "root\n",
      " |-- Exchange: string (nullable = true)\n",
      " |-- Symbol: string (nullable = true)\n",
      " |-- Longname: string (nullable = true)\n",
      " |-- Sector: string (nullable = true)\n",
      " |-- Industry: string (nullable = true)\n",
      " |-- Currentprice: double (nullable = true)\n",
      " |-- Marketcap: long (nullable = true)\n",
      " |-- Ebitda: long (nullable = true)\n",
      " |-- Revenuegrowth: double (nullable = true)\n",
      " |-- City: string (nullable = true)\n",
      " |-- State: string (nullable = true)\n",
      " |-- Country: string (nullable = true)\n",
      " |-- Fulltimeemployees: integer (nullable = true)\n",
      " |-- Weight: double (nullable = true)\n",
      "\n"
     ]
    },
    {
     "name": "stderr",
     "output_type": "stream",
     "text": [
      "25/07/30 03:08:01 WARN InstanceBuilder: Failed to load implementation from:dev.ludovic.netlib.blas.JNIBLAS\n"
     ]
    },
    {
     "name": "stdout",
     "output_type": "stream",
     "text": [
      "+------+--------------------+-------+\n",
      "|Symbol|            Industry|cluster|\n",
      "+------+--------------------+-------+\n",
      "|  AAPL|Consumer Electronics|      1|\n",
      "|  NVDA|      Semiconductors|      4|\n",
      "|  MSFT|Software - Infras...|      1|\n",
      "|  AMZN|     Internet Retail|      4|\n",
      "| GOOGL|Internet Content ...|      4|\n",
      "|  GOOG|Internet Content ...|      4|\n",
      "|  META|Internet Content ...|      4|\n",
      "|  TSLA|  Auto Manufacturers|      0|\n",
      "|  AVGO|      Semiconductors|      0|\n",
      "| BRK-B|Insurance - Diver...|      4|\n",
      "|   WMT|     Discount Stores|      0|\n",
      "|   LLY|Drug Manufacturer...|      0|\n",
      "|     V|     Credit Services|      0|\n",
      "|    MA|     Credit Services|      0|\n",
      "|  ORCL|Software - Infras...|      0|\n",
      "|   XOM|Oil & Gas Integrated|      0|\n",
      "|   UNH|    Healthcare Plans|      0|\n",
      "|  COST|     Discount Stores|      0|\n",
      "|    PG|Household & Perso...|      0|\n",
      "|    HD|Home Improvement ...|      0|\n",
      "+------+--------------------+-------+\n",
      "only showing top 20 rows\n",
      "+------+--------------------+-------+\n",
      "|Symbol|            Industry|cluster|\n",
      "+------+--------------------+-------+\n",
      "|   BLK|    Asset Management|      0|\n",
      "|   MCO|Financial Data & ...|      0|\n",
      "|   RTX| Aerospace & Defense|      0|\n",
      "|   PFE|Drug Manufacturer...|      0|\n",
      "|   HON|       Conglomerates|      0|\n",
      "|  TSLA|  Auto Manufacturers|      0|\n",
      "|   NEE|Utilities - Regul...|      0|\n",
      "|   WMT|     Discount Stores|      0|\n",
      "| CMCSA|    Telecom Services|      0|\n",
      "|     V|     Credit Services|      0|\n",
      "|  ANET|   Computer Hardware|      0|\n",
      "|  ORCL|Software - Infras...|      0|\n",
      "|  AMGN|Drug Manufacturer...|      0|\n",
      "|   UNH|    Healthcare Plans|      0|\n",
      "|   PGR|Insurance - Prope...|      0|\n",
      "|    PG|Household & Perso...|      0|\n",
      "|   LOW|Home Improvement ...|      0|\n",
      "|  NFLX|       Entertainment|      0|\n",
      "|   SYK|     Medical Devices|      0|\n",
      "|   CRM|Software - Applic...|      0|\n",
      "|  TMUS|    Telecom Services|      0|\n",
      "|   CVX|Oil & Gas Integrated|      0|\n",
      "|   MRK|Drug Manufacturer...|      0|\n",
      "|  CSCO|Communication Equ...|      0|\n",
      "|   ACN|Information Techn...|      0|\n",
      "|   NOW|Software - Applic...|      0|\n",
      "|   MCD|         Restaurants|      0|\n",
      "|   PEP|Beverages - Non-A...|      0|\n",
      "|   IBM|Information Techn...|      0|\n",
      "|   DIS|       Entertainment|      0|\n",
      "|   LIN| Specialty Chemicals|      0|\n",
      "|   TMO|Diagnostics & Res...|      0|\n",
      "|   ABT|     Medical Devices|      0|\n",
      "|  ADBE|Software - Infras...|      0|\n",
      "|   AMD|      Semiconductors|      0|\n",
      "|    PM|             Tobacco|      0|\n",
      "|  ISRG|Medical Instrumen...|      0|\n",
      "|  PLTR|Software - Infras...|      0|\n",
      "|    GE| Aerospace & Defense|      0|\n",
      "|  INTU|Software - Applic...|      0|\n",
      "|   CAT|Farm & Heavy Cons...|      0|\n",
      "|   TXN|      Semiconductors|      0|\n",
      "|  QCOM|      Semiconductors|      0|\n",
      "|   DHR|Diagnostics & Res...|      0|\n",
      "|     T|    Telecom Services|      0|\n",
      "|  SPGI|Financial Data & ...|      0|\n",
      "|    TT|Building Products...|      0|\n",
      "|  AVGO|      Semiconductors|      0|\n",
      "|   LLY|Drug Manufacturer...|      0|\n",
      "|    MA|     Credit Services|      0|\n",
      "+------+--------------------+-------+\n",
      "only showing top 50 rows\n",
      "[-0.11557854 -0.11499727 -0.09979701 -0.06891788]\n",
      "[9.7061865  7.95058312 0.22586493 0.24284789]\n",
      "[-0.19356373 -0.14171186  6.1277894  -0.2854699 ]\n",
      "[-0.08076697 -0.15061175  0.05381072 10.52229644]\n",
      "[5.72473152 6.24911749 1.30469134 0.14667196]\n"
     ]
    }
   ],
   "source": [
    "df.printSchema()\n",
    "\n",
    "\n",
    "from pyspark.ml.clustering import KMeans\n",
    "from pyspark.ml.feature import VectorAssembler, StandardScaler\n",
    "\n",
    "\n",
    "df_clean = df.select(\"Symbol\", \"Industry\", \"Marketcap\", \"Ebitda\", \"Revenuegrowth\", \"Currentprice\") \\\n",
    "             .dropna()\n",
    "\n",
    "assembler = VectorAssembler(inputCols=[\"Marketcap\", \"Ebitda\", \"Revenuegrowth\", \"Currentprice\"],\n",
    "                            outputCol=\"assembled_features\")\n",
    "assembled_df = assembler.transform(df_clean)\n",
    "\n",
    "scaler = StandardScaler(inputCol=\"assembled_features\", outputCol=\"features\",\n",
    "                        withStd=True, withMean=True)\n",
    "scaled_df = scaler.fit(assembled_df).transform(assembled_df)\n",
    "\n",
    "kmeans = KMeans(k=5, seed=42, featuresCol=\"features\", predictionCol=\"cluster\")\n",
    "model = kmeans.fit(scaled_df)\n",
    "clustered_df = model.transform(scaled_df)\n",
    "\n",
    "clustered_df.select(\"Symbol\", \"Industry\", \"cluster\").show()\n",
    "\n",
    "\n",
    "clustered_df.select(\"Symbol\", \"Industry\", \"cluster\").orderBy(\"cluster\").show(50)\n",
    "\n",
    "centers = model.clusterCenters()\n",
    "for center in centers:\n",
    "    print(center)\n",
    "\n"
   ]
  },
  {
   "cell_type": "code",
   "execution_count": 38,
   "metadata": {},
   "outputs": [
    {
     "name": "stdout",
     "output_type": "stream",
     "text": [
      "+-------+-------------------+-------------------+------------------+--------------------+\n",
      "|cluster|        avg(Ebitda)| avg(Revenuegrowth)| avg(Currentprice)|      avg(Marketcap)|\n",
      "+-------+-------------------+-------------------+------------------+--------------------+\n",
      "|      1|    1.3560649728E11|             0.1105|           345.545|   3.546444201984E12|\n",
      "|      3|4.530989098666667E9|0.07966666666666666|           5526.28|8.238051874133333E10|\n",
      "|      4|   1.08077166592E11|0.30383333333333334| 297.0733333333333|2.137219803818666...|\n",
      "|      2|4.674987370666667E9| 1.1681666666666666| 79.27833333333332|4.245643127466666...|\n",
      "|      0|5.107223338684327E9|0.05213907284768215|188.41830022075044| 7.00590632406181E10|\n",
      "+-------+-------------------+-------------------+------------------+--------------------+\n",
      "\n"
     ]
    }
   ],
   "source": [
    "clustered_df.groupBy(\"cluster\").agg(\n",
    "    {\"Marketcap\": \"avg\", \"Ebitda\": \"avg\", \"Revenuegrowth\": \"avg\", \"Currentprice\": \"avg\"}\n",
    ").show()\n"
   ]
  },
  {
   "cell_type": "code",
   "execution_count": 39,
   "metadata": {},
   "outputs": [
    {
     "name": "stdout",
     "output_type": "stream",
     "text": [
      "+------+--------------------+-------+-------------+\n",
      "|Symbol|            Industry|cluster|   risk_level|\n",
      "+------+--------------------+-------+-------------+\n",
      "|  BKNG|     Travel Services|      3|         High|\n",
      "|   AZO|    Specialty Retail|      3|         High|\n",
      "|   NVR|Residential Const...|      3|         High|\n",
      "|  AAPL|Consumer Electronics|      1|Low to Medium|\n",
      "|  NVDA|      Semiconductors|      4|Low to Medium|\n",
      "|  MSFT|Software - Infras...|      1|Low to Medium|\n",
      "|  AMZN|     Internet Retail|      4|Low to Medium|\n",
      "| GOOGL|Internet Content ...|      4|Low to Medium|\n",
      "|  GOOG|Internet Content ...|      4|Low to Medium|\n",
      "|  META|Internet Content ...|      4|Low to Medium|\n",
      "| BRK-B|Insurance - Diver...|      4|Low to Medium|\n",
      "|  TSLA|  Auto Manufacturers|      0|       Medium|\n",
      "|  AVGO|      Semiconductors|      0|       Medium|\n",
      "|   WMT|     Discount Stores|      0|       Medium|\n",
      "|   LLY|Drug Manufacturer...|      0|       Medium|\n",
      "|     V|     Credit Services|      0|       Medium|\n",
      "|    MA|     Credit Services|      0|       Medium|\n",
      "|  ORCL|Software - Infras...|      0|       Medium|\n",
      "|   XOM|Oil & Gas Integrated|      0|       Medium|\n",
      "|   UNH|    Healthcare Plans|      0|       Medium|\n",
      "|  COST|     Discount Stores|      0|       Medium|\n",
      "|    PG|Household & Perso...|      0|       Medium|\n",
      "|    HD|Home Improvement ...|      0|       Medium|\n",
      "|  NFLX|       Entertainment|      0|       Medium|\n",
      "|   JNJ|Drug Manufacturer...|      0|       Medium|\n",
      "|   CRM|Software - Applic...|      0|       Medium|\n",
      "|  ABBV|Drug Manufacturer...|      0|       Medium|\n",
      "|    KO|Beverages - Non-A...|      0|       Medium|\n",
      "|  TMUS|    Telecom Services|      0|       Medium|\n",
      "|   CVX|Oil & Gas Integrated|      0|       Medium|\n",
      "+------+--------------------+-------+-------------+\n",
      "only showing top 30 rows\n"
     ]
    }
   ],
   "source": [
    "from pyspark.sql import functions as F\n",
    "\n",
    "# Add a new column 'risk_level' based on the cluster number\n",
    "clustered_df_with_risk = clustered_df.withColumn(\n",
    "    \"risk_level\",\n",
    "    F.when(clustered_df[\"cluster\"] == 1, \"Low to Medium\")  # Cluster 1 (Large, established, high profitability)\n",
    "    .when(clustered_df[\"cluster\"] == 3, \"High\")  # Cluster 3 (High stock prices, lower profitability)\n",
    "    .when(clustered_df[\"cluster\"] == 4, \"Low to Medium\")  # Cluster 4 (Profitable, fast-growing, large market cap)\n",
    "    .when(clustered_df[\"cluster\"] == 2, \"Medium to High\")  # Cluster 2 (High-growth, low-profit)\n",
    "    .otherwise(\"Medium\")  # Default risk level for cluster 0 (Low-growth, low-profit)\n",
    ")\n",
    "\n",
    "# Show the DataFrame with risk levels\n",
    "clustered_df_with_risk.select(\"Symbol\", \"Industry\", \"cluster\", \"risk_level\").orderBy(\"risk_level\").show(30)\n"
   ]
  },
  {
   "cell_type": "code",
   "execution_count": 40,
   "metadata": {},
   "outputs": [
    {
     "name": "stdout",
     "output_type": "stream",
     "text": [
      "+--------------------+-----+\n",
      "|              Sector|count|\n",
      "+--------------------+-----+\n",
      "|  Consumer Defensive|   37|\n",
      "|  Financial Services|   67|\n",
      "|Communication Ser...|   22|\n",
      "|              Energy|   22|\n",
      "|          Healthcare|   62|\n",
      "|         Real Estate|   31|\n",
      "|           Utilities|   32|\n",
      "|         Industrials|   70|\n",
      "|          Technology|   82|\n",
      "|   Consumer Cyclical|   55|\n",
      "|     Basic Materials|   22|\n",
      "+--------------------+-----+\n",
      "\n"
     ]
    }
   ],
   "source": [
    "\n",
    "sector_counts = df.groupBy(\"Sector\").count()\n",
    "\n",
    "sector_counts.show()"
   ]
  },
  {
   "cell_type": "code",
   "execution_count": 41,
   "metadata": {},
   "outputs": [
    {
     "name": "stdout",
     "output_type": "stream",
     "text": [
      "+--------------------+--------------------+--------------------+--------------------+\n",
      "|              Sector|       Avg_Marketcap|   Avg_Revenuegrowth|          Avg_Ebitda|\n",
      "+--------------------+--------------------+--------------------+--------------------+\n",
      "|  Consumer Defensive|8.794158331848648E10|0.010297297297297295| 6.398984998054054E9|\n",
      "|  Financial Services|1.060919841853134...| 0.12295522388059699| 8.869586042947369E9|\n",
      "|Communication Ser...|    3.54729383424E11| 0.05247619047619048|2.550577312872727...|\n",
      "|              Energy|7.266690166690909E10|0.007727272727272729|1.170328989381818...|\n",
      "|          Healthcare|8.371662572180646E10| 0.07709677419354836| 6.161792758580646E9|\n",
      "|         Real Estate|3.488674026529032E10| 0.08126666666666667|          2.306212E9|\n",
      "|           Utilities|      3.929280544E10|          0.04415625|       5.087529688E9|\n",
      "|         Industrials|5.378002489051428E10| 0.04514285714285713|3.9021598340571427E9|\n",
      "|          Technology|2.108172365674146...| 0.11582716049382713|  7.65157602204878E9|\n",
      "|   Consumer Cyclical|1.158609594181818...| 0.06743636363636363|      6.2354552064E9|\n",
      "|     Basic Materials|3.929786374981818...|0.019409090909090904|       3.643587456E9|\n",
      "+--------------------+--------------------+--------------------+--------------------+\n",
      "\n"
     ]
    }
   ],
   "source": [
    "sector_performance = df.groupBy(\"Sector\").agg(\n",
    "    avg(\"Marketcap\").alias(\"Avg_Marketcap\"),\n",
    "    avg(\"Revenuegrowth\").alias(\"Avg_Revenuegrowth\"),\n",
    "    avg(\"Ebitda\").alias(\"Avg_Ebitda\")\n",
    ")\n",
    "sector_performance.show()"
   ]
  },
  {
   "cell_type": "code",
   "execution_count": 42,
   "metadata": {},
   "outputs": [],
   "source": [
    "\n",
    "spark.stop()\n"
   ]
  },
  {
   "cell_type": "code",
   "execution_count": null,
   "metadata": {},
   "outputs": [],
   "source": []
  }
 ],
 "metadata": {
  "kernelspec": {
   "display_name": "Python 3 (ipykernel)",
   "language": "python",
   "name": "python3"
  },
  "language_info": {
   "codemirror_mode": {
    "name": "ipython",
    "version": 3
   },
   "file_extension": ".py",
   "mimetype": "text/x-python",
   "name": "python",
   "nbconvert_exporter": "python",
   "pygments_lexer": "ipython3",
   "version": "3.12.11"
  }
 },
 "nbformat": 4,
 "nbformat_minor": 4
}
